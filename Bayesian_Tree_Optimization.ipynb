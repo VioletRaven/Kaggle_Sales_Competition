{
  "nbformat": 4,
  "nbformat_minor": 0,
  "metadata": {
    "colab": {
      "provenance": []
    },
    "kernelspec": {
      "name": "python3",
      "display_name": "Python 3"
    },
    "language_info": {
      "name": "python"
    }
  },
  "cells": [
    {
      "cell_type": "markdown",
      "metadata": {
        "id": "VRgv8CyKlAoe"
      },
      "source": [
        "#Bayesian Tree Optimization LGB"
      ]
    },
    {
      "cell_type": "markdown",
      "metadata": {
        "id": "CC98aQA83TDH"
      },
      "source": [
        "##Preprocessing inspired by [this notebook](https://www.kaggle.com/code/emaksone/eda-with-feature-engineering/notebook)"
      ]
    },
    {
      "cell_type": "code",
      "execution_count": null,
      "metadata": {
        "id": "9diSa8zGtCHh"
      },
      "outputs": [],
      "source": [
        "import numpy as np \n",
        "import pandas as pd\n",
        "\n",
        "import matplotlib.pyplot as plt\n",
        "import seaborn as sns; sns.set()\n",
        "%matplotlib inline \n",
        "\n",
        "from sklearn.preprocessing import MinMaxScaler\n",
        "from sklearn.preprocessing import LabelEncoder\n",
        "\n",
        "import os\n",
        "import gc\n",
        "from itertools import product\n",
        "from tqdm import tqdm_notebook\n",
        "import time\n",
        "import os"
      ]
    },
    {
      "cell_type": "code",
      "execution_count": null,
      "metadata": {
        "id": "hg_hMoOIrHFM"
      },
      "outputs": [],
      "source": [
        "DATA_FOLDER = '/content/kaggle_data/'\n",
        "sales = pd.read_csv(os.path.join(DATA_FOLDER, 'sales_train.csv'))\n",
        "shops_df = pd.read_csv(os.path.join(DATA_FOLDER, 'shops.csv'))\n",
        "cat_df = pd.read_csv(os.path.join(DATA_FOLDER, 'item_categories.csv'))\n",
        "items_df = pd.read_csv(os.path.join(DATA_FOLDER, 'items.csv'))\n",
        "test_df = pd.read_csv(os.path.join(DATA_FOLDER, 'test.csv'))"
      ]
    },
    {
      "cell_type": "code",
      "execution_count": null,
      "metadata": {
        "id": "z91MjkkrsXSc"
      },
      "outputs": [],
      "source": [
        "sales = sales[sales['item_cnt_day'] < 900]\n",
        "sales = sales[(sales['item_price']<100000) & (sales['item_price']>0)]\n",
        "scaler = MinMaxScaler().fit(sales[['item_price']])\n",
        "sales['item_price'] = scaler.transform(sales[['item_price']])"
      ]
    },
    {
      "cell_type": "code",
      "execution_count": null,
      "metadata": {
        "id": "DbXxrYTcsXVA"
      },
      "outputs": [],
      "source": [
        "# Якутск Орджоникидзе, 56\n",
        "sales.loc[sales['shop_id'] == 0, 'shop_id'] = 57\n",
        "test_df.loc[test_df['shop_id'] == 0, 'shop_id'] = 57\n",
        "# Якутск ТЦ \"Центральный\"\n",
        "sales.loc[sales['shop_id'] == 1, 'shop_id'] = 58\n",
        "test_df.loc[test_df['shop_id'] == 1, 'shop_id'] = 58\n",
        "# Жуковский ул. Чкалова 39м²\n",
        "sales.loc[sales['shop_id'] == 10, 'shop_id'] = 11\n",
        "test_df.loc[test_df['shop_id'] == 10, 'shop_id'] = 11"
      ]
    },
    {
      "cell_type": "code",
      "execution_count": null,
      "metadata": {
        "id": "Q0Ok7_VisXXr"
      },
      "outputs": [],
      "source": [
        "shops_df.loc[shops_df['shop_name'] == 'Сергиев Посад ТЦ \"7Я\"', 'shop_name'] = 'СергиевПосад ТЦ \"7Я\"'\n",
        "shops_df['city'] = shops_df['shop_name'].str.split(' ').map(lambda x: x[0])\n",
        "shops_df.loc[shops_df['city'] == '!Якутск', 'city'] = 'Якутск'\n",
        "shops_df['city_code'] = LabelEncoder().fit_transform(shops_df['city'])\n",
        "shops_df.loc[shops_df['shop_id'].isin([9,12, 55]), 'city_code'] = 999\n",
        "shops_df = shops_df[['shop_id','city_code']]"
      ]
    },
    {
      "cell_type": "code",
      "execution_count": null,
      "metadata": {
        "id": "MHRQC_J-tPnh"
      },
      "outputs": [],
      "source": [
        "cat_df.loc[cat_df['item_category_id'] == 8, 'item_category_name'] = 'Билеты'\n",
        "cat_df.loc[cat_df['item_category_id'] == 26, 'item_category_name'] = 'Игры Android'\n",
        "cat_df.loc[cat_df['item_category_id'] == 27, 'item_category_name'] = 'Игры MAC'\n",
        "cat_df.loc[cat_df['item_category_id'] == 31, 'item_category_name'] = 'Игры PC'\n",
        "cat_df.loc[cat_df['item_category_id'] == 34, 'item_category_name'] = 'Карты оплаты - Live!'\n",
        "cat_df.loc[cat_df['item_category_id'] == 36, 'item_category_name'] = 'Карты оплаты - Windows'\n",
        "cat_df.loc[cat_df['item_category_id'] == 44, 'item_category_name'] = 'Карты оплаты - Windows'\n",
        "cat_df.loc[cat_df['item_category_id'] == 74, 'item_category_name'] = 'Программы - MAC'\n",
        "#43 equals 44\n",
        "cat_df.drop(cat_df[cat_df['item_category_id'] == 44].index, inplace=True)\n",
        "#75 == 76\n",
        "cat_df.drop(cat_df[cat_df['item_category_id'] == 76].index, inplace=True)\n",
        "#77 == 78\n",
        "cat_df.drop(cat_df[cat_df['item_category_id'] == 78].index, inplace=True)\n",
        "\n",
        "items_df.loc[items_df['item_category_id'] == 44, 'item_category_id'] = 43\n",
        "items_df.loc[items_df['item_category_id'] == 76, 'item_category_id'] = 75\n",
        "items_df.loc[items_df['item_category_id'] == 78, 'item_category_id'] = 77"
      ]
    },
    {
      "cell_type": "code",
      "execution_count": null,
      "metadata": {
        "id": "Edh--W9EtPpw"
      },
      "outputs": [],
      "source": [
        "cat_df['split'] = cat_df['item_category_name'].str.split('-')\n",
        "cat_df['type'] = cat_df['split'].map(lambda x: x[0].strip())\n",
        "cat_df['type_code'] = LabelEncoder().fit_transform(cat_df['type'])\n",
        "# if subtype is nan then type\n",
        "cat_df['subtype'] = cat_df['split'].map(lambda x: x[1].strip() if len(x) > 1 else 'unknown')\n",
        "cat_df['subtype_code'] = LabelEncoder().fit_transform(cat_df['subtype'])\n",
        "cat_df = cat_df[['item_category_id','type_code', 'subtype_code']]\n",
        "\n",
        "items_df.drop(['item_name'], axis=1, inplace=True)"
      ]
    },
    {
      "cell_type": "code",
      "execution_count": null,
      "metadata": {
        "id": "rDiQpcAHtPsJ"
      },
      "outputs": [],
      "source": [
        "sales['date_block_num'] = sales['date_block_num'].astype(np.int8)\n",
        "sales['shop_id'] = sales['shop_id'].astype(np.int16)\n",
        "sales['item_id'] = sales['item_id'].astype(np.int32)\n",
        "\n",
        "test_df['date_block_num'] = 34\n",
        "test_df['date_block_num'] = test_df['date_block_num'].astype(np.int8)\n",
        "test_df['shop_id'] = test_df['shop_id'].astype(np.int16)\n",
        "test_df['item_id'] = test_df['item_id'].astype(np.int32)"
      ]
    },
    {
      "cell_type": "code",
      "execution_count": null,
      "metadata": {
        "id": "N8napYuRsXaS"
      },
      "outputs": [],
      "source": [
        "index_cols = ['shop_id', 'item_id', 'date_block_num']\n",
        "\n",
        "grid = [] \n",
        "for block_num in sales['date_block_num'].unique():\n",
        "    #create all posible tuples [shop, item, month]. Shop and item that used in particular month\n",
        "    cur_shops = sales.loc[sales['date_block_num'] == block_num, 'shop_id'].unique()\n",
        "    cur_items = sales.loc[sales['date_block_num'] == block_num, 'item_id'].unique()\n",
        "    grid.append(np.array(list(product(*[cur_shops, cur_items, [block_num]])),dtype='int32'))\n",
        "\n",
        "grid = pd.DataFrame(np.vstack(grid), columns = index_cols,dtype=np.int32)\n",
        "\n",
        "gb = sales.groupby(index_cols,as_index=False).agg({'item_cnt_day' : 'sum'}) # old --> gb = sales.groupby(index_cols,as_index=False).agg({'item_cnt_day':{'target':'sum'}})\n",
        "\n",
        "#gb.columns = [col[0] if col[-1]=='' else col[-1] for col in gb.columns.values] "
      ]
    },
    {
      "cell_type": "code",
      "execution_count": null,
      "metadata": {
        "id": "xEtnA0-7w96B"
      },
      "outputs": [],
      "source": [
        "all_data = pd.merge(grid, gb, how='left', on=index_cols).fillna(0)"
      ]
    },
    {
      "cell_type": "code",
      "execution_count": null,
      "metadata": {
        "id": "d7ct3OZ5wlHP"
      },
      "outputs": [],
      "source": [
        "all_data.rename(columns={'item_cnt_day':'target'}, inplace=True)"
      ]
    },
    {
      "cell_type": "code",
      "execution_count": null,
      "metadata": {
        "id": "aurpc5QJv3gK"
      },
      "outputs": [],
      "source": [
        "all_data['target'] = all_data['target'].astype(np.float16)"
      ]
    },
    {
      "cell_type": "code",
      "execution_count": null,
      "metadata": {
        "id": "Gh-sKnk-xDHv"
      },
      "outputs": [],
      "source": [
        "#joining test data to all_data\n",
        "all_data = pd.concat([all_data, test_df[index_cols]], ignore_index=True, sort=False, keys=index_cols)\n",
        "all_data.fillna(0, inplace=True)"
      ]
    },
    {
      "cell_type": "code",
      "execution_count": null,
      "metadata": {
        "id": "vMZBdFyrxDKT"
      },
      "outputs": [],
      "source": [
        "all_data['date_block_num'] = all_data['date_block_num'].astype(np.int8)\n",
        "all_data['shop_id'] = all_data['shop_id'].astype(np.int16)\n",
        "all_data['item_id'] = all_data['item_id'].astype(np.int32)"
      ]
    },
    {
      "cell_type": "code",
      "execution_count": null,
      "metadata": {
        "colab": {
          "base_uri": "https://localhost:8080/"
        },
        "id": "GMA9yWAHxDPQ",
        "outputId": "86a5a405-04b5-4eb7-98dd-865ecf1befdb"
      },
      "outputs": [
        {
          "output_type": "execute_result",
          "data": {
            "text/plain": [
              "22"
            ]
          },
          "metadata": {},
          "execution_count": 22
        }
      ],
      "source": [
        "del grid, gb \n",
        "gc.collect()"
      ]
    },
    {
      "cell_type": "code",
      "execution_count": null,
      "metadata": {
        "id": "DOQxLquRxDSc"
      },
      "outputs": [],
      "source": [
        "all_data['target'] = np.clip(all_data['target'], 0, 20)"
      ]
    },
    {
      "cell_type": "code",
      "execution_count": null,
      "metadata": {
        "colab": {
          "base_uri": "https://localhost:8080/",
          "height": 520
        },
        "id": "YmsLtqcpxwuZ",
        "outputId": "c3641540-c33c-41a7-c941-5449454c26ee"
      },
      "outputs": [
        {
          "output_type": "execute_result",
          "data": {
            "text/plain": [
              "<matplotlib.axes._subplots.AxesSubplot at 0x7f5daa5f02d0>"
            ]
          },
          "metadata": {},
          "execution_count": 24
        },
        {
          "output_type": "display_data",
          "data": {
            "text/plain": [
              "<Figure size 720x576 with 1 Axes>"
            ],
            "image/png": "[encoded data removed]"
          },
          "metadata": {
            "needs_background": "light"
          }
        }
      ],
      "source": [
        "all_data['target'] = all_data['target'].astype(np.float64) # we cannot calculate sum with float16\n",
        "sales_per_month = all_data.groupby('date_block_num')['target'].sum()\n",
        "all_data['target'] = all_data['target'].astype(np.float16)\n",
        "sales_per_month.plot(figsize=(10,8))"
      ]
    },
    {
      "cell_type": "code",
      "execution_count": null,
      "metadata": {
        "id": "7JEl4uuDxww4"
      },
      "outputs": [],
      "source": [
        "decembers = [11, 23]\n",
        "all_data['is_december'] = all_data['date_block_num'].isin(decembers).astype(np.int8)"
      ]
    },
    {
      "cell_type": "code",
      "execution_count": null,
      "metadata": {
        "id": "xK4qtY9uyrWE"
      },
      "outputs": [],
      "source": [
        "all_data = pd.merge(all_data, items_df, how='left', on='item_id')\n",
        "all_data = pd.merge(all_data, cat_df, how='left', on='item_category_id')\n",
        "all_data = pd.merge(all_data, shops_df, how='left', on='shop_id')"
      ]
    },
    {
      "cell_type": "code",
      "execution_count": null,
      "metadata": {
        "id": "l5zo3PUryrY4"
      },
      "outputs": [],
      "source": [
        "all_data['item_category_id'] = all_data['item_category_id'].astype(np.int8)\n",
        "all_data['type_code'] = all_data['type_code'].astype(np.int8)\n",
        "all_data['subtype_code'] = all_data['subtype_code'].astype(np.int8)\n",
        "all_data['city_code'] = all_data['city_code'].astype(np.int16)"
      ]
    },
    {
      "cell_type": "code",
      "execution_count": null,
      "metadata": {
        "colab": {
          "base_uri": "https://localhost:8080/"
        },
        "id": "TnBR1fXVyrbD",
        "outputId": "757665d5-9bc5-4665-9434-feb86153a4dc"
      },
      "outputs": [
        {
          "output_type": "execute_result",
          "data": {
            "text/plain": [
              "168"
            ]
          },
          "metadata": {},
          "execution_count": 28
        }
      ],
      "source": [
        "del items_df\n",
        "del cat_df\n",
        "del shops_df\n",
        "gc.collect()"
      ]
    },
    {
      "cell_type": "code",
      "execution_count": null,
      "metadata": {
        "colab": {
          "base_uri": "https://localhost:8080/"
        },
        "id": "vfbnuYF-y91K",
        "outputId": "b82ecbb3-705a-4d45-bd5e-05e3f1165f12"
      },
      "outputs": [
        {
          "output_type": "execute_result",
          "data": {
            "text/plain": [
              "['shop_id', 'item_id', 'date_block_num']"
            ]
          },
          "metadata": {},
          "execution_count": 29
        }
      ],
      "source": [
        "index_cols"
      ]
    },
    {
      "cell_type": "code",
      "execution_count": null,
      "metadata": {
        "id": "HmSGV6qnyrdD"
      },
      "outputs": [],
      "source": [
        "#function to create lag features\n",
        "\n",
        "def create_lag(df, cols_to_lag, shift_range):\n",
        "    print(cols_to_lag)\n",
        "    \n",
        "    for month_shift in tqdm_notebook(shift_range):\n",
        "        train_shift = df[index_cols + cols_to_lag].copy()\n",
        "        train_shift['date_block_num'] = train_shift['date_block_num'] + month_shift\n",
        "\n",
        "        foo = lambda x: '{}_lag_{}'.format(x, month_shift) if x in cols_to_lag else x\n",
        "        train_shift = train_shift.rename(columns=foo)\n",
        "\n",
        "        df = pd.merge(df, train_shift, on=index_cols, how='left')\n",
        "\n",
        "    del train_shift\n",
        "    gc.collect()\n",
        "    return df"
      ]
    },
    {
      "cell_type": "code",
      "execution_count": null,
      "metadata": {
        "id": "QK6tc_amyrfR"
      },
      "outputs": [],
      "source": [
        "mean_enc = all_data.groupby('date_block_num').agg({'target':['mean']})\n",
        "mean_enc.columns = ['date_block_num_enc']\n",
        "all_data = pd.merge(all_data, mean_enc, how='left', on=['date_block_num'])"
      ]
    },
    {
      "cell_type": "code",
      "execution_count": null,
      "metadata": {
        "colab": {
          "base_uri": "https://localhost:8080/",
          "height": 67,
          "referenced_widgets": [
            "9758d38b25b34dbb8e4b366ee6faaa0f",
            "110080fee5d340d38db57413e8b89b8a",
            "804f4ed3e0bc4d368514db362d018e34",
            "9a1607b77d754a68b99209ffe0ad0a2f",
            "f2b18084a02d408ab3eec1995bf067b8",
            "ece4067ff99d42049bef3549570fc5b4",
            "fb3ede1ff5e447ada4c11fc46cd2dc95",
            "dcd30b61f0b843dd8d12eed0d277d86f",
            "0f8f75bc8c394776821ae9aeab80159b",
            "a61e358ef8fb4b04a985c03d75951463",
            "dfaf9007838c4b789e1ae476e08f8926"
          ]
        },
        "id": "q4w8bFBPzep-",
        "outputId": "2b57d933-1f9d-4b19-baaa-16b11a8c4164"
      },
      "outputs": [
        {
          "output_type": "stream",
          "name": "stdout",
          "text": [
            "['date_block_num_enc']\n"
          ]
        },
        {
          "output_type": "display_data",
          "data": {
            "text/plain": [
              "  0%|          | 0/5 [00:00<?, ?it/s]"
            ],
            "application/vnd.jupyter.widget-view+json": {
              "version_major": 2,
              "version_minor": 0,
              "model_id": "9758d38b25b34dbb8e4b366ee6faaa0f"
            }
          },
          "metadata": {}
        }
      ],
      "source": [
        "all_data = create_lag(all_data, ['date_block_num_enc'], [1, 2, 3, 6, 12])"
      ]
    },
    {
      "cell_type": "code",
      "execution_count": null,
      "metadata": {
        "colab": {
          "base_uri": "https://localhost:8080/"
        },
        "id": "1v4Iv5H2zeuJ",
        "outputId": "373007df-f340-4e97-f611-83ac30de015d"
      },
      "outputs": [
        {
          "output_type": "execute_result",
          "data": {
            "text/plain": [
              "34.39818358421326"
            ]
          },
          "metadata": {},
          "execution_count": 32
        }
      ],
      "source": [
        "ts = time.time()\n",
        "mean_enc = all_data.groupby(['date_block_num', 'item_id']).agg({'target':['mean']})\n",
        "mean_enc.columns = ['date_block_num_item_enc']\n",
        "all_data = pd.merge(all_data, mean_enc, how='left', on=['date_block_num', 'item_id'])\n",
        "\n",
        "mean_enc = all_data.groupby(['date_block_num', 'shop_id']).agg({'target':['mean']})\n",
        "mean_enc.columns = ['date_block_num_shop_enc']\n",
        "all_data = pd.merge(all_data, mean_enc, how='left', on=['date_block_num', 'shop_id'])\n",
        "\n",
        "mean_enc = all_data.groupby(['date_block_num', 'item_category_id']).agg({'target':['mean']})\n",
        "mean_enc.columns = ['date_block_num_cat_enc']\n",
        "all_data = pd.merge(all_data, mean_enc, how='left', on=['date_block_num', 'item_category_id'])\n",
        "\n",
        "mean_enc = all_data.groupby(['date_block_num', 'shop_id', 'item_category_id']).agg({'target':['mean']})\n",
        "mean_enc.columns = ['date_block_num_shop_cat_enc']\n",
        "all_data = pd.merge(all_data, mean_enc, how='left', on=['date_block_num', 'shop_id','item_category_id'])\n",
        "\n",
        "mean_enc = all_data.groupby(['date_block_num', 'shop_id', 'type_code']).agg({'target':['mean']})\n",
        "mean_enc.columns = ['date_block_num_shop_type_enc']\n",
        "all_data = pd.merge(all_data, mean_enc, how='left', on=['date_block_num', 'shop_id','type_code'])\n",
        "\n",
        "mean_enc = all_data.groupby(['date_block_num', 'shop_id', 'subtype_code']).agg({'target':['mean']})\n",
        "mean_enc.columns = ['date_block_num_shop_subtype_enc']\n",
        "all_data = pd.merge(all_data, mean_enc, how='left', on=['date_block_num', 'shop_id','subtype_code'])\n",
        "\n",
        "mean_enc = all_data.groupby(['date_block_num', 'city_code']).agg({'target':['mean']})\n",
        "mean_enc.columns = ['date_block_num_city_enc']\n",
        "all_data = pd.merge(all_data, mean_enc, how='left', on=['date_block_num', 'city_code'])\n",
        "\n",
        "mean_enc = all_data.groupby(['date_block_num', 'item_id','city_code']).agg({'target':['mean']})\n",
        "mean_enc.columns = ['date_block_num_item_city_enc']\n",
        "all_data = pd.merge(all_data, mean_enc, how='left', on=['date_block_num', 'item_id','city_code'])\n",
        "\n",
        "mean_enc = all_data.groupby(['date_block_num', 'type_code']).agg({'target':['mean']})\n",
        "mean_enc.columns = ['date_block_num_type_enc']\n",
        "all_data = pd.merge(all_data, mean_enc, how='left', on=['date_block_num', 'type_code'])\n",
        "\n",
        "mean_enc = all_data.groupby(['date_block_num', 'subtype_code']).agg({'target':['mean']})\n",
        "mean_enc.columns = ['date_block_num_subtype_enc']\n",
        "all_data = pd.merge(all_data, mean_enc, how='left', on=['date_block_num', 'subtype_code'])\n",
        "\n",
        "del mean_enc\n",
        "gc.collect()\n",
        "time.time() - ts"
      ]
    },
    {
      "cell_type": "code",
      "execution_count": null,
      "metadata": {
        "colab": {
          "base_uri": "https://localhost:8080/",
          "referenced_widgets": [
            "74d484c35653412f9a5d9218be9ad836",
            "e1a363b108e94661af701b3770523918",
            "1009fd0faf5c45ffbe03a1d5ec3f3ef5",
            "41bfd8d437ac4d1eba868e266c5e6ba7",
            "b7f3ea955b8a4386ab9485727ed5a0f8",
            "9b361467e305401ca90c0d673838dff6",
            "e2471ab1109445f6a1163a902d041013",
            "b5f739b62d8c43fabae94be0b65897d7",
            "208d10b4f9314ad39fc84f0d2ee0c224",
            "e613f89cbd384d6d833d09c07913193d",
            "1f56d64f57814760831bf9309f47ea79"
          ]
        },
        "id": "UPo3hCmzzewE",
        "outputId": "b038bdcf-daf1-4e27-912e-8614c7f87854"
      },
      "outputs": [
        {
          "output_type": "stream",
          "name": "stdout",
          "text": [
            "['date_block_num_item_enc', 'date_block_num_shop_enc', 'date_block_num_cat_enc', 'date_block_num_shop_cat_enc', 'date_block_num_shop_type_enc', 'date_block_num_shop_subtype_enc', 'date_block_num_city_enc', 'date_block_num_item_city_enc', 'date_block_num_type_enc', 'date_block_num_subtype_enc']\n"
          ]
        },
        {
          "output_type": "display_data",
          "data": {
            "text/plain": [
              "  0%|          | 0/5 [00:00<?, ?it/s]"
            ],
            "application/vnd.jupyter.widget-view+json": {
              "version_major": 2,
              "version_minor": 0,
              "model_id": "74d484c35653412f9a5d9218be9ad836"
            }
          },
          "metadata": {}
        }
      ],
      "source": [
        "lag_features = ['date_block_num_item_enc', 'date_block_num_shop_enc', 'date_block_num_cat_enc',\n",
        "               'date_block_num_shop_cat_enc', 'date_block_num_shop_type_enc', 'date_block_num_shop_subtype_enc',\n",
        "               'date_block_num_city_enc', 'date_block_num_item_city_enc', 'date_block_num_type_enc',\n",
        "               'date_block_num_subtype_enc']\n",
        "all_data = create_lag(all_data, lag_features, [1, 2, 3, 6, 12])"
      ]
    },
    {
      "cell_type": "code",
      "execution_count": null,
      "metadata": {
        "colab": {
          "base_uri": "https://localhost:8080/"
        },
        "id": "V6miOSVS065E",
        "outputId": "827af8c2-bdac-4f03-f87b-5c4a33eb8965"
      },
      "outputs": [
        {
          "output_type": "execute_result",
          "data": {
            "text/plain": [
              "['date_block_num_item_enc',\n",
              " 'date_block_num_shop_enc',\n",
              " 'date_block_num_cat_enc',\n",
              " 'date_block_num_shop_cat_enc',\n",
              " 'date_block_num_shop_type_enc',\n",
              " 'date_block_num_shop_subtype_enc',\n",
              " 'date_block_num_city_enc',\n",
              " 'date_block_num_item_city_enc',\n",
              " 'date_block_num_type_enc',\n",
              " 'date_block_num_subtype_enc']"
            ]
          },
          "metadata": {},
          "execution_count": 35
        }
      ],
      "source": [
        "lag_features"
      ]
    },
    {
      "cell_type": "code",
      "execution_count": null,
      "metadata": {
        "id": "CvJunQaozeyP"
      },
      "outputs": [],
      "source": [
        "all_data.drop(lag_features + ['date_block_num_enc'], inplace=True, axis=1)"
      ]
    },
    {
      "cell_type": "code",
      "execution_count": null,
      "metadata": {
        "colab": {
          "base_uri": "https://localhost:8080/",
          "height": 85,
          "referenced_widgets": [
            "237bdd0dbc5a47c798979eaa8f635321",
            "a55861ca5e8847fbadfb55d434368d6d",
            "51a5c77907cc4b108fa4fd9eb6e0d27b",
            "e94bb065c00e443f908ccafd6ef629d8",
            "a81f0f6ce55742b8b9d76b06c7c14b48",
            "e7d8239c970446cfb431899112739537",
            "2d31b05421d34f74b4af53886b20f2db",
            "8acef8ea610e4da6b6ffc6f0c9eca143",
            "0bc41d4dc87f47088b709f96b7b3d456",
            "8e99f30ad23d44688bc1c48d3cccdd04",
            "7a508035e02b4228b521b51a2921dabe"
          ]
        },
        "id": "szdmyjVO00Bp",
        "outputId": "1b5384c5-1c50-4c68-fe8d-f8565f3ffc9d"
      },
      "outputs": [
        {
          "output_type": "stream",
          "name": "stdout",
          "text": [
            "['date_shop_price_mean']\n"
          ]
        },
        {
          "output_type": "display_data",
          "data": {
            "text/plain": [
              "  0%|          | 0/6 [00:00<?, ?it/s]"
            ],
            "application/vnd.jupyter.widget-view+json": {
              "version_major": 2,
              "version_minor": 0,
              "model_id": "237bdd0dbc5a47c798979eaa8f635321"
            }
          },
          "metadata": {}
        },
        {
          "output_type": "execute_result",
          "data": {
            "text/plain": [
              "133.15253281593323"
            ]
          },
          "metadata": {},
          "execution_count": 35
        }
      ],
      "source": [
        "#find out shop mean price for all time and shop mean price for every month\n",
        "ts = time.time()\n",
        "\n",
        "group = sales.groupby(['shop_id']).agg({'item_price':['mean']})\n",
        "group.columns = ['shop_price_mean']\n",
        "\n",
        "#another way to get rid of 2 layer columns\n",
        "group.reset_index(inplace=True)\n",
        "all_data = pd.merge(all_data, group, how='left', on=['shop_id'])\n",
        "all_data['shop_price_mean'] = all_data['shop_price_mean'].astype(np.float32)\n",
        "\n",
        "group = sales.groupby(['date_block_num', 'shop_id']).agg({'item_price':['mean']})\n",
        "group.columns = ['date_shop_price_mean']\n",
        "group.reset_index(inplace=True)\n",
        "\n",
        "all_data = pd.merge(all_data, group, how='left', on=['date_block_num', 'shop_id'])\n",
        "all_data['date_shop_price_mean'] = all_data['date_shop_price_mean'].astype(np.float16)\n",
        "\n",
        "# create lags \n",
        "lags = [1, 2, 3, 4, 5, 6]\n",
        "all_data = create_lag(all_data, ['date_shop_price_mean'],lags)\n",
        "time.time() - ts"
      ]
    },
    {
      "cell_type": "code",
      "execution_count": null,
      "metadata": {
        "colab": {
          "base_uri": "https://localhost:8080/"
        },
        "id": "PGpWoQ5F00Ga",
        "outputId": "0da4c86b-3e3b-493b-ee2c-036b13a68851"
      },
      "outputs": [
        {
          "output_type": "execute_result",
          "data": {
            "text/plain": [
              "3.7540199756622314"
            ]
          },
          "metadata": {},
          "execution_count": 36
        }
      ],
      "source": [
        "# find out how much shop mean month price different from the 'all time' shop mean price , and normalize it.\n",
        "ts = time.time()\n",
        "\n",
        "for i in lags:\n",
        "    all_data['delta_shop_price_lag_'+str(i)] = \\\n",
        "        (all_data['date_shop_price_mean_lag_'+str(i)] - all_data['shop_price_mean']) / all_data['shop_price_mean']\n",
        "\n",
        "\n",
        "del group\n",
        "gc.collect()\n",
        "\n",
        "delta_cols = [col  for col in all_data.columns.values if col.startswith('delta_shop_price_lag_')]\n",
        "date_item_price_cols = [col  for col in all_data.columns.values if col.startswith('date_shop_price_mean_lag_')]\n",
        "\n",
        "#fillna(method='backfill') doesn't support float16, so change it to float32\n",
        "all_data[delta_cols] = all_data[delta_cols].astype(np.float32) \n",
        "\n",
        "#get first non nan value in a row.\n",
        "all_data['delta_shop_price_lag'] = all_data[delta_cols].fillna(method='backfill', axis=1).iloc[:, 0]\n",
        "\n",
        "#fill it with zeros if it did not found non nan\n",
        "all_data['delta_shop_price_lag'] = all_data['delta_shop_price_lag'].fillna(0).astype(np.float16)\n",
        "\n",
        "#and remove feature we used to calculate this\n",
        "cols_to_drop = delta_cols + date_item_price_cols +['date_shop_price_mean', 'shop_price_mean']\n",
        "all_data.drop(cols_to_drop, axis=1, inplace=True)\n",
        "time.time()-ts"
      ]
    },
    {
      "cell_type": "code",
      "execution_count": null,
      "metadata": {
        "colab": {
          "base_uri": "https://localhost:8080/",
          "height": 85,
          "referenced_widgets": [
            "ce3c6e7b57044841b611b3037779c697",
            "f974a17c97a24d12a7592f3d0fa08cfd",
            "92bab8d7bed64774a0c79da62b702436",
            "74720944db8143ca8976eb7256d6219d",
            "e8191348b2de4d4eaa5fdeb2e6f6e3c9",
            "53e5f756790b433382ef9466ef201ce6",
            "574e7cc864d44da9912ca966becbb94a",
            "8bf51897cfce4b62a9a70de1fd28c101",
            "0f17b49a35ae4ad197c89a11a4bc2d49",
            "59a92fb7f7fd4193aae99fad97319ddf",
            "ed21017721a14ca58898731620d0bbd8"
          ]
        },
        "id": "8dr7EP2v00JK",
        "outputId": "b6ac1026-7b96-4268-a0b8-507c53f03638"
      },
      "outputs": [
        {
          "output_type": "stream",
          "name": "stdout",
          "text": [
            "['date_item_price_mean']\n"
          ]
        },
        {
          "output_type": "display_data",
          "data": {
            "text/plain": [
              "  0%|          | 0/6 [00:00<?, ?it/s]"
            ],
            "application/vnd.jupyter.widget-view+json": {
              "version_major": 2,
              "version_minor": 0,
              "model_id": "ce3c6e7b57044841b611b3037779c697"
            }
          },
          "metadata": {}
        },
        {
          "output_type": "execute_result",
          "data": {
            "text/plain": [
              "122.86505174636841"
            ]
          },
          "metadata": {},
          "execution_count": 37
        }
      ],
      "source": [
        "ts = time.time()\n",
        "group = sales.groupby(['item_id']).agg({'item_price':['mean']})\n",
        "group.columns = ['item_price_mean']\n",
        "group.reset_index(inplace=True)\n",
        "all_data = pd.merge(all_data, group, how='left', on=['item_id'])\n",
        "all_data['item_price_mean'] = all_data['item_price_mean'].astype(np.float16)\n",
        "\n",
        "group = sales.groupby(['date_block_num', 'item_id']).agg({'item_price':['mean']})\n",
        "group.columns = ['date_item_price_mean']\n",
        "group.reset_index(inplace=True)\n",
        "\n",
        "all_data = pd.merge(all_data, group, how='left', on=['date_block_num', 'item_id'])\n",
        "all_data['date_item_price_mean'] = all_data['date_item_price_mean'].astype(np.float16)\n",
        "lags = [1,2,3,4,5,6]\n",
        "\n",
        "all_data = create_lag(all_data, ['date_item_price_mean'],lags)\n",
        "\n",
        "del group\n",
        "gc.collect()\n",
        "\n",
        "for i in lags:\n",
        "    all_data['delta_item_price_lag_'+str(i)] = \\\n",
        "        (all_data['date_item_price_mean_lag_'+str(i)] - all_data['item_price_mean']) / all_data['item_price_mean']\n",
        "\n",
        "delta_cols = [col  for col in all_data.columns.values if col.startswith('delta_item_price_lag_')]\n",
        "date_item_price_cols = [col  for col in all_data.columns.values if col.startswith('date_item_price_mean_lag_')]\n",
        "\n",
        "all_data[delta_cols] = all_data[delta_cols].astype(np.float32) \n",
        "all_data['delta_item_price_lag'] = all_data[delta_cols].fillna(method='backfill', axis=1).iloc[:, 0]\n",
        "\n",
        "all_data['delta_item_price_lag'] = all_data['delta_item_price_lag'].fillna(0).astype(np.float16)\n",
        "cols_to_drop = delta_cols + date_item_price_cols +['date_item_price_mean', 'item_price_mean']\n",
        "all_data.drop(cols_to_drop, axis=1, inplace=True)\n",
        "all_data['delta_item_price_lag'].head()\n",
        "\n",
        "time.time()-ts"
      ]
    },
    {
      "cell_type": "code",
      "execution_count": null,
      "metadata": {
        "id": "pPJt9Gby00La"
      },
      "outputs": [],
      "source": [
        "all_data['month'] = all_data['date_block_num'] % 12\n",
        "days = pd.Series([31,28,31,30,31,30,31,31,30,31,30,31])\n",
        "all_data['days'] = all_data['month'].map(days).astype(np.int8)"
      ]
    },
    {
      "cell_type": "code",
      "execution_count": null,
      "metadata": {
        "colab": {
          "base_uri": "https://localhost:8080/"
        },
        "id": "7r8Ojn_n00Nq",
        "outputId": "8b5b89ed-96b5-4763-9811-d1543c102506"
      },
      "outputs": [
        {
          "output_type": "execute_result",
          "data": {
            "text/plain": [
              "644.0226881504059"
            ]
          },
          "metadata": {},
          "execution_count": 40
        }
      ],
      "source": [
        "ts = time.time()\n",
        "cache = {} # key is 'item_id shop_id', values is date_block_num\n",
        "all_data['item_shop_last_sale'] = -1\n",
        "all_data['item_shop_last_sale'] = all_data['item_shop_last_sale'].astype(np.int8)\n",
        "for idx, row in all_data.iterrows():    \n",
        "    key = str(row['item_id'])+' '+str(row['shop_id'])\n",
        "    if key not in cache:\n",
        "        if row['target']!=0:\n",
        "            cache[key] = row['date_block_num']\n",
        "    else:\n",
        "        last_date_block_num = cache[key]\n",
        "        all_data.at[idx, 'item_shop_last_sale'] = row['date_block_num'] - last_date_block_num\n",
        "        cache[key] = row['date_block_num']         \n",
        "\n",
        "del cache\n",
        "gc.collect()        \n",
        "time.time() - ts"
      ]
    },
    {
      "cell_type": "code",
      "execution_count": null,
      "metadata": {
        "colab": {
          "base_uri": "https://localhost:8080/"
        },
        "id": "BhLNdwC300Qs",
        "outputId": "a3aac061-6f7a-4bb4-d4ac-5684b4ddc366"
      },
      "outputs": [
        {
          "output_type": "execute_result",
          "data": {
            "text/plain": [
              "442.8790557384491"
            ]
          },
          "metadata": {},
          "execution_count": 41
        }
      ],
      "source": [
        "ts = time.time()\n",
        "cache = {}\n",
        "all_data['item_last_sale'] = -1\n",
        "all_data['item_last_sale'] = all_data['item_last_sale'].astype(np.int8)\n",
        "for idx, row in all_data.iterrows():    \n",
        "    key = row['item_id']\n",
        "    if key not in cache:\n",
        "        if row['target']!=0:\n",
        "            cache[key] = row['date_block_num']\n",
        "    else:\n",
        "        last_date_block_num = cache[key]\n",
        "        if row['date_block_num']>last_date_block_num:\n",
        "            all_data.at[idx, 'item_last_sale'] = row['date_block_num'] - last_date_block_num\n",
        "            cache[key] = row['date_block_num']   \n",
        "\n",
        "            \n",
        "del cache\n",
        "gc.collect()\n",
        "time.time() - ts"
      ]
    },
    {
      "cell_type": "code",
      "execution_count": null,
      "metadata": {
        "id": "4jrj5vLDze0Q",
        "colab": {
          "base_uri": "https://localhost:8080/"
        },
        "outputId": "cb58efc6-79ca-46a8-d0f5-92d82328ba04"
      },
      "outputs": [
        {
          "output_type": "execute_result",
          "data": {
            "text/plain": [
              "1.5575144290924072"
            ]
          },
          "metadata": {},
          "execution_count": 42
        }
      ],
      "source": [
        "ts = time.time()\n",
        "all_data['item_shop_first_sale'] = all_data['date_block_num'] - all_data.groupby(['item_id','shop_id'])['date_block_num'].transform('min')\n",
        "all_data['item_first_sale'] = all_data['date_block_num'] - all_data.groupby('item_id')['date_block_num'].transform('min')\n",
        "time.time() - ts"
      ]
    },
    {
      "cell_type": "code",
      "execution_count": null,
      "metadata": {
        "id": "IdNBDA3q3yXl"
      },
      "outputs": [],
      "source": [
        "all_data = all_data[all_data['date_block_num'] > 11]"
      ]
    },
    {
      "cell_type": "code",
      "execution_count": null,
      "metadata": {
        "id": "z2MZlcJ53yaE"
      },
      "outputs": [],
      "source": [
        "all_data.fillna(0, inplace=True, axis=1)"
      ]
    },
    {
      "cell_type": "code",
      "execution_count": null,
      "metadata": {
        "id": "64xXBX1n3ycl"
      },
      "outputs": [],
      "source": [
        "all_data.to_pickle('all_data.pkl')"
      ]
    },
    {
      "cell_type": "code",
      "execution_count": null,
      "metadata": {
        "id": "31bgn18hsXdW",
        "colab": {
          "base_uri": "https://localhost:8080/",
          "height": 299
        },
        "outputId": "c938bc66-f9f0-436c-bd24-f0ee9eba6c65"
      },
      "outputs": [
        {
          "output_type": "execute_result",
          "data": {
            "text/plain": [
              "         shop_id  item_id  date_block_num  target  is_december  \\\n",
              "4488710       54    10297              12     4.0            0   \n",
              "4488711       54    10296              12     3.0            0   \n",
              "4488712       54    10298              12    14.0            0   \n",
              "4488713       54    10300              12     3.0            0   \n",
              "4488714       54    10284              12     1.0            0   \n",
              "\n",
              "         item_category_id  type_code  subtype_code  city_code  \\\n",
              "4488710                37         11             1         26   \n",
              "4488711                38         11             1         26   \n",
              "4488712                40         11             4         26   \n",
              "4488713                37         11             1         26   \n",
              "4488714                57         13             7         26   \n",
              "\n",
              "         date_block_num_enc_lag_1  ...  date_block_num_type_enc_lag_12  \\\n",
              "4488710                  0.411377  ...                             0.0   \n",
              "4488711                  0.411377  ...                             0.0   \n",
              "4488712                  0.411377  ...                             0.0   \n",
              "4488713                  0.411377  ...                             0.0   \n",
              "4488714                  0.411377  ...                             0.0   \n",
              "\n",
              "         date_block_num_subtype_enc_lag_12  delta_shop_price_lag  \\\n",
              "4488710                                0.0              0.132324   \n",
              "4488711                                0.0              0.132324   \n",
              "4488712                                0.0              0.132324   \n",
              "4488713                                0.0              0.132324   \n",
              "4488714                                0.0              0.132324   \n",
              "\n",
              "         delta_item_price_lag  month  days  item_shop_last_sale  \\\n",
              "4488710              0.037933      0    31                    1   \n",
              "4488711              0.085205      0    31                   -1   \n",
              "4488712              0.439209      0    31                    1   \n",
              "4488713              0.160645      0    31                    1   \n",
              "4488714             -0.073181      0    31                    1   \n",
              "\n",
              "         item_last_sale  item_shop_first_sale  item_first_sale  \n",
              "4488710               1                     2                2  \n",
              "4488711               1                     1                1  \n",
              "4488712               1                     3                3  \n",
              "4488713               1                     3                3  \n",
              "4488714               1                    10               10  \n",
              "\n",
              "[5 rows x 72 columns]"
            ],
            "text/html": [
              "\n",
              "  <div id=\"df-275f7a00-e1ac-4b33-9eb6-c8401e8f7ca0\">\n",
              "    <div class=\"colab-df-container\">\n",
              "      <div>\n",
              "<style scoped>\n",
              "    .dataframe tbody tr th:only-of-type {\n",
              "        vertical-align: middle;\n",
              "    }\n",
              "\n",
              "    .dataframe tbody tr th {\n",
              "        vertical-align: top;\n",
              "    }\n",
              "\n",
              "    .dataframe thead th {\n",
              "        text-align: right;\n",
              "    }\n",
              "</style>\n",
              "<table border=\"1\" class=\"dataframe\">\n",
              "  <thead>\n",
              "    <tr style=\"text-align: right;\">\n",
              "      <th></th>\n",
              "      <th>shop_id</th>\n",
              "      <th>item_id</th>\n",
              "      <th>date_block_num</th>\n",
              "      <th>target</th>\n",
              "      <th>is_december</th>\n",
              "      <th>item_category_id</th>\n",
              "      <th>type_code</th>\n",
              "      <th>subtype_code</th>\n",
              "      <th>city_code</th>\n",
              "      <th>date_block_num_enc_lag_1</th>\n",
              "      <th>...</th>\n",
              "      <th>date_block_num_type_enc_lag_12</th>\n",
              "      <th>date_block_num_subtype_enc_lag_12</th>\n",
              "      <th>delta_shop_price_lag</th>\n",
              "      <th>delta_item_price_lag</th>\n",
              "      <th>month</th>\n",
              "      <th>days</th>\n",
              "      <th>item_shop_last_sale</th>\n",
              "      <th>item_last_sale</th>\n",
              "      <th>item_shop_first_sale</th>\n",
              "      <th>item_first_sale</th>\n",
              "    </tr>\n",
              "  </thead>\n",
              "  <tbody>\n",
              "    <tr>\n",
              "      <th>4488710</th>\n",
              "      <td>54</td>\n",
              "      <td>10297</td>\n",
              "      <td>12</td>\n",
              "      <td>4.0</td>\n",
              "      <td>0</td>\n",
              "      <td>37</td>\n",
              "      <td>11</td>\n",
              "      <td>1</td>\n",
              "      <td>26</td>\n",
              "      <td>0.411377</td>\n",
              "      <td>...</td>\n",
              "      <td>0.0</td>\n",
              "      <td>0.0</td>\n",
              "      <td>0.132324</td>\n",
              "      <td>0.037933</td>\n",
              "      <td>0</td>\n",
              "      <td>31</td>\n",
              "      <td>1</td>\n",
              "      <td>1</td>\n",
              "      <td>2</td>\n",
              "      <td>2</td>\n",
              "    </tr>\n",
              "    <tr>\n",
              "      <th>4488711</th>\n",
              "      <td>54</td>\n",
              "      <td>10296</td>\n",
              "      <td>12</td>\n",
              "      <td>3.0</td>\n",
              "      <td>0</td>\n",
              "      <td>38</td>\n",
              "      <td>11</td>\n",
              "      <td>1</td>\n",
              "      <td>26</td>\n",
              "      <td>0.411377</td>\n",
              "      <td>...</td>\n",
              "      <td>0.0</td>\n",
              "      <td>0.0</td>\n",
              "      <td>0.132324</td>\n",
              "      <td>0.085205</td>\n",
              "      <td>0</td>\n",
              "      <td>31</td>\n",
              "      <td>-1</td>\n",
              "      <td>1</td>\n",
              "      <td>1</td>\n",
              "      <td>1</td>\n",
              "    </tr>\n",
              "    <tr>\n",
              "      <th>4488712</th>\n",
              "      <td>54</td>\n",
              "      <td>10298</td>\n",
              "      <td>12</td>\n",
              "      <td>14.0</td>\n",
              "      <td>0</td>\n",
              "      <td>40</td>\n",
              "      <td>11</td>\n",
              "      <td>4</td>\n",
              "      <td>26</td>\n",
              "      <td>0.411377</td>\n",
              "      <td>...</td>\n",
              "      <td>0.0</td>\n",
              "      <td>0.0</td>\n",
              "      <td>0.132324</td>\n",
              "      <td>0.439209</td>\n",
              "      <td>0</td>\n",
              "      <td>31</td>\n",
              "      <td>1</td>\n",
              "      <td>1</td>\n",
              "      <td>3</td>\n",
              "      <td>3</td>\n",
              "    </tr>\n",
              "    <tr>\n",
              "      <th>4488713</th>\n",
              "      <td>54</td>\n",
              "      <td>10300</td>\n",
              "      <td>12</td>\n",
              "      <td>3.0</td>\n",
              "      <td>0</td>\n",
              "      <td>37</td>\n",
              "      <td>11</td>\n",
              "      <td>1</td>\n",
              "      <td>26</td>\n",
              "      <td>0.411377</td>\n",
              "      <td>...</td>\n",
              "      <td>0.0</td>\n",
              "      <td>0.0</td>\n",
              "      <td>0.132324</td>\n",
              "      <td>0.160645</td>\n",
              "      <td>0</td>\n",
              "      <td>31</td>\n",
              "      <td>1</td>\n",
              "      <td>1</td>\n",
              "      <td>3</td>\n",
              "      <td>3</td>\n",
              "    </tr>\n",
              "    <tr>\n",
              "      <th>4488714</th>\n",
              "      <td>54</td>\n",
              "      <td>10284</td>\n",
              "      <td>12</td>\n",
              "      <td>1.0</td>\n",
              "      <td>0</td>\n",
              "      <td>57</td>\n",
              "      <td>13</td>\n",
              "      <td>7</td>\n",
              "      <td>26</td>\n",
              "      <td>0.411377</td>\n",
              "      <td>...</td>\n",
              "      <td>0.0</td>\n",
              "      <td>0.0</td>\n",
              "      <td>0.132324</td>\n",
              "      <td>-0.073181</td>\n",
              "      <td>0</td>\n",
              "      <td>31</td>\n",
              "      <td>1</td>\n",
              "      <td>1</td>\n",
              "      <td>10</td>\n",
              "      <td>10</td>\n",
              "    </tr>\n",
              "  </tbody>\n",
              "</table>\n",
              "<p>5 rows × 72 columns</p>\n",
              "</div>\n",
              "      <button class=\"colab-df-convert\" onclick=\"convertToInteractive('df-275f7a00-e1ac-4b33-9eb6-c8401e8f7ca0')\"\n",
              "              title=\"Convert this dataframe to an interactive table.\"\n",
              "              style=\"display:none;\">\n",
              "        \n",
              "  <svg xmlns=\"http://www.w3.org/2000/svg\" height=\"24px\"viewBox=\"0 0 24 24\"\n",
              "       width=\"24px\">\n",
              "    <path d=\"M0 0h24v24H0V0z\" fill=\"none\"/>\n",
              "    <path d=\"M18.56 5.44l.94 2.06.94-2.06 2.06-.94-2.06-.94-.94-2.06-.94 2.06-2.06.94zm-11 1L8.5 8.5l.94-2.06 2.06-.94-2.06-.94L8.5 2.5l-.94 2.06-2.06.94zm10 10l.94 2.06.94-2.06 2.06-.94-2.06-.94-.94-2.06-.94 2.06-2.06.94z\"/><path d=\"M17.41 7.96l-1.37-1.37c-.4-.4-.92-.59-1.43-.59-.52 0-1.04.2-1.43.59L10.3 9.45l-7.72 7.72c-.78.78-.78 2.05 0 2.83L4 21.41c.39.39.9.59 1.41.59.51 0 1.02-.2 1.41-.59l7.78-7.78 2.81-2.81c.8-.78.8-2.07 0-2.86zM5.41 20L4 18.59l7.72-7.72 1.47 1.35L5.41 20z\"/>\n",
              "  </svg>\n",
              "      </button>\n",
              "      \n",
              "  <style>\n",
              "    .colab-df-container {\n",
              "      display:flex;\n",
              "      flex-wrap:wrap;\n",
              "      gap: 12px;\n",
              "    }\n",
              "\n",
              "    .colab-df-convert {\n",
              "      background-color: #E8F0FE;\n",
              "      border: none;\n",
              "      border-radius: 50%;\n",
              "      cursor: pointer;\n",
              "      display: none;\n",
              "      fill: #1967D2;\n",
              "      height: 32px;\n",
              "      padding: 0 0 0 0;\n",
              "      width: 32px;\n",
              "    }\n",
              "\n",
              "    .colab-df-convert:hover {\n",
              "      background-color: #E2EBFA;\n",
              "      box-shadow: 0px 1px 2px rgba(60, 64, 67, 0.3), 0px 1px 3px 1px rgba(60, 64, 67, 0.15);\n",
              "      fill: #174EA6;\n",
              "    }\n",
              "\n",
              "    [theme=dark] .colab-df-convert {\n",
              "      background-color: #3B4455;\n",
              "      fill: #D2E3FC;\n",
              "    }\n",
              "\n",
              "    [theme=dark] .colab-df-convert:hover {\n",
              "      background-color: #434B5C;\n",
              "      box-shadow: 0px 1px 3px 1px rgba(0, 0, 0, 0.15);\n",
              "      filter: drop-shadow(0px 1px 2px rgba(0, 0, 0, 0.3));\n",
              "      fill: #FFFFFF;\n",
              "    }\n",
              "  </style>\n",
              "\n",
              "      <script>\n",
              "        const buttonEl =\n",
              "          document.querySelector('#df-275f7a00-e1ac-4b33-9eb6-c8401e8f7ca0 button.colab-df-convert');\n",
              "        buttonEl.style.display =\n",
              "          google.colab.kernel.accessAllowed ? 'block' : 'none';\n",
              "\n",
              "        async function convertToInteractive(key) {\n",
              "          const element = document.querySelector('#df-275f7a00-e1ac-4b33-9eb6-c8401e8f7ca0');\n",
              "          const dataTable =\n",
              "            await google.colab.kernel.invokeFunction('convertToInteractive',\n",
              "                                                     [key], {});\n",
              "          if (!dataTable) return;\n",
              "\n",
              "          const docLinkHtml = 'Like what you see? Visit the ' +\n",
              "            '<a target=\"_blank\" href=https://colab.research.google.com/notebooks/data_table.ipynb>data table notebook</a>'\n",
              "            + ' to learn more about interactive tables.';\n",
              "          element.innerHTML = '';\n",
              "          dataTable['output_type'] = 'display_data';\n",
              "          await google.colab.output.renderOutput(dataTable, element);\n",
              "          const docLink = document.createElement('div');\n",
              "          docLink.innerHTML = docLinkHtml;\n",
              "          element.appendChild(docLink);\n",
              "        }\n",
              "      </script>\n",
              "    </div>\n",
              "  </div>\n",
              "  "
            ]
          },
          "metadata": {},
          "execution_count": 46
        }
      ],
      "source": [
        "pickle_path = '/content/all_data.pkl'\n",
        "all_data = pd.read_pickle(pickle_path)\n",
        "all_data.head()"
      ]
    },
    {
      "cell_type": "code",
      "execution_count": null,
      "metadata": {
        "id": "A_zGKgDzrHHp",
        "colab": {
          "base_uri": "https://localhost:8080/"
        },
        "outputId": "7bac3505-1ddb-462d-e427-57e53330957b"
      },
      "outputs": [
        {
          "output_type": "stream",
          "name": "stdout",
          "text": [
            "Items in test and not in train: 378\n",
            "Items in train and not in test: 12332\n",
            "Number of unique shops: 42\n"
          ]
        }
      ],
      "source": [
        "test_items = all_data.loc[all_data['date_block_num']==34,'item_id'].unique()\n",
        "train_items = all_data.loc[all_data['date_block_num']<34,'item_id'].unique()\n",
        "items_in_test_and_not_in_train = set(test_items).difference(set(train_items))\n",
        "print('Items in test and not in train: {0}'.format(len(items_in_test_and_not_in_train)))\n",
        "items_in_train_and_not_in_test = set(train_items).difference(set(test_items))\n",
        "print('Items in train and not in test: {0}'.format(len(items_in_train_and_not_in_test)))\n",
        "\n",
        "test_shops = all_data.loc[all_data['date_block_num']==34,'shop_id'].unique()\n",
        "print('Number of unique shops: {0}'.format(len(test_shops)))"
      ]
    },
    {
      "cell_type": "code",
      "execution_count": null,
      "metadata": {
        "id": "q5BNJ6OOrHKi",
        "colab": {
          "base_uri": "https://localhost:8080/"
        },
        "outputId": "37bc9a84-ee6f-4f76-eac0-f1a0ca973446"
      },
      "outputs": [
        {
          "output_type": "stream",
          "name": "stdout",
          "text": [
            "12\n",
            "13\n",
            "14\n",
            "15\n",
            "16\n",
            "17\n",
            "18\n",
            "19\n",
            "20\n",
            "21\n",
            "22\n",
            "23\n",
            "24\n",
            "25\n",
            "26\n",
            "27\n",
            "28\n",
            "29\n",
            "30\n",
            "31\n",
            "32\n",
            "33\n"
          ]
        }
      ],
      "source": [
        "missing_shop_item_count = 378 * 42 # all missing item per shop ===> 15876\n",
        "index_cols = ['shop_id', 'item_id', 'date_block_num']\n",
        "\n",
        "grid = []\n",
        "for block_num in all_data.loc[all_data['date_block_num']<34, 'date_block_num'].unique():\n",
        "    print(block_num)\n",
        "    \n",
        "    zero_target_df = all_data[(all_data['date_block_num'] == block_num) & (all_data['target']==0) & \n",
        "                              (all_data['item_id'].isin(items_in_train_and_not_in_test))]\n",
        "    \n",
        "    idx_to_delete = zero_target_df.sample(missing_shop_item_count, random_state=block_num).index\n",
        "    all_data.drop(idx_to_delete, inplace=True)\n",
        "    temp = np.array(list(product(*[test_shops, items_in_test_and_not_in_train, [block_num]])),dtype='int32')\n",
        "    grid.append(temp)\n",
        "    \n",
        "    del zero_target_df\n",
        "    del idx_to_delete\n",
        "    del temp\n",
        "    gc.collect()\n",
        "\n",
        "#     I think grid is all items that a specific shop(in train data) didn't have in each month\n",
        "# یعنی اجناسی که هر مغازه در ماه های قبل ۳۴ نفروخته (یا همون نداشته که بفروشه )\n",
        "#  non of grid rows are in all_data\n",
        "grid = pd.DataFrame(np.vstack(grid), columns = index_cols,dtype=np.int32)"
      ]
    },
    {
      "cell_type": "code",
      "execution_count": null,
      "metadata": {
        "id": "3sxe4II15QF1"
      },
      "outputs": [],
      "source": [
        "grid['shop_id'] = grid['shop_id'].astype(np.int16)\n",
        "grid['item_id'] = grid['item_id'].astype(np.int32)\n",
        "grid['date_block_num'] = grid['date_block_num'].astype(np.int8)"
      ]
    },
    {
      "cell_type": "code",
      "execution_count": null,
      "metadata": {
        "id": "QTdl1kEi5Sg3",
        "colab": {
          "base_uri": "https://localhost:8080/"
        },
        "outputId": "6ab4a2a9-d42e-4a72-85c6-14c9cfbe4e77"
      },
      "outputs": [
        {
          "output_type": "execute_result",
          "data": {
            "text/plain": [
              "44"
            ]
          },
          "metadata": {},
          "execution_count": 50
        }
      ],
      "source": [
        "all_data = pd.concat([all_data, grid], ignore_index=True, sort=False, keys=index_cols)\n",
        "all_data[['item_shop_last_sale', 'item_last_sale']].fillna(-1, inplace=True) #-1 is default value in this columns\n",
        "all_data.fillna(0, inplace=True)\n",
        "\n",
        "del grid\n",
        "del test_items\n",
        "del test_shops\n",
        "del train_items\n",
        "del items_in_test_and_not_in_train\n",
        "del items_in_train_and_not_in_test\n",
        "gc.collect()"
      ]
    },
    {
      "cell_type": "code",
      "execution_count": null,
      "metadata": {
        "id": "jgpKdvQ65Vso"
      },
      "outputs": [],
      "source": [
        "all_data['is_december'] = all_data['is_december'].astype(np.int8)\n",
        "all_data['item_category_id'] = all_data['item_category_id'].astype(np.int8)\n",
        "all_data['type_code'] = all_data['type_code'].astype(np.int8)\n",
        "all_data['subtype_code'] = all_data['subtype_code'].astype(np.int8)\n",
        "all_data['city_code'] = all_data['city_code'].astype(np.int16)\n",
        "\n",
        "all_data['month'] = all_data['month'].astype(np.int8)\n",
        "all_data['days'] = all_data['days'].astype(np.int8)\n",
        "all_data['item_shop_last_sale'] = all_data['item_shop_last_sale'].astype(np.int8)\n",
        "all_data['item_last_sale'] = all_data['item_last_sale'].astype(np.int8)\n",
        "all_data['item_shop_first_sale'] = all_data['item_shop_first_sale'].astype(np.int8)\n",
        "all_data['item_first_sale'] = all_data['item_first_sale'].astype(np.int8)"
      ]
    },
    {
      "cell_type": "code",
      "execution_count": null,
      "metadata": {
        "id": "Mu-F-2pT5WH5",
        "colab": {
          "base_uri": "https://localhost:8080/"
        },
        "outputId": "e691b1d3-6479-40e9-9738-3c179d2fe73c"
      },
      "outputs": [
        {
          "output_type": "execute_result",
          "data": {
            "text/plain": [
              "22"
            ]
          },
          "metadata": {},
          "execution_count": 52
        }
      ],
      "source": [
        "# we added some rows to balance ditribution of our dataset so we need put those new rows in right position\n",
        "# put added rows in right position\n",
        "all_test_data = all_data[all_data['date_block_num'] == 34]\n",
        "all_data = all_data[all_data['date_block_num'] < 34]\n",
        "all_data.sort_values(['date_block_num'], inplace=True)\n",
        "all_data = pd.concat([all_data, all_test_data], ignore_index=True, sort=False, keys=index_cols)\n",
        "\n",
        "del all_test_data\n",
        "gc.collect()"
      ]
    },
    {
      "cell_type": "code",
      "source": [
        "#if data needs to be fed to CNN\n",
        "\n",
        "dates = all_data['date_block_num']\n",
        "\n",
        "last_block = dates.max()\n",
        "print('Test `date_block_num` is {0}'.format(last_block))\n",
        "\n",
        "X_train = all_data.loc[dates <  last_block]\n",
        "Y_train = all_data.loc[dates <  last_block, 'target'].values\n",
        "\n",
        "X_test =  all_data.loc[dates == last_block]\n",
        "Y_test =  all_data.loc[dates == last_block, 'target'].values\n",
        "\n",
        "X_valid = all_data.loc[dates ==  last_block-1]\n",
        "Y_valid =  all_data.loc[dates == last_block-1, 'target'].values\n",
        "\n",
        "all_data.to_pickle('all_data.pkl') # will use it later. Now free RAM\n",
        "\n",
        "del dates\n",
        "del all_data\n",
        "gc.collect()"
      ],
      "metadata": {
        "colab": {
          "base_uri": "https://localhost:8080/"
        },
        "id": "88fkeMCdzWkQ",
        "outputId": "80f79020-faa5-48f9-d428-bbcd4afd4a19"
      },
      "execution_count": null,
      "outputs": [
        {
          "output_type": "stream",
          "name": "stdout",
          "text": [
            "Test `date_block_num` is 34\n"
          ]
        },
        {
          "output_type": "execute_result",
          "data": {
            "text/plain": [
              "0"
            ]
          },
          "metadata": {},
          "execution_count": 53
        }
      ]
    },
    {
      "cell_type": "code",
      "execution_count": null,
      "metadata": {
        "id": "IddBEdbj5WL3"
      },
      "outputs": [],
      "source": [
        "#if data needs to be fed to lgb\n",
        "\n",
        "dates = all_data['date_block_num']\n",
        "\n",
        "last_block = dates.max()\n",
        "print('Test `date_block_num` is {0}'.format(last_block))\n",
        "\n",
        "X_train = all_data.loc[dates <  last_block]\n",
        "X_test =  all_data.loc[dates == last_block]\n",
        "\n",
        "y_train = all_data.loc[dates <  last_block, 'target'].values\n",
        "y_test =  all_data.loc[dates == last_block, 'target'].values\n",
        "\n",
        "X_valid_train = all_data.loc[dates <  last_block-1]\n",
        "X_valid_test =  all_data.loc[dates == last_block-1]\n",
        "\n",
        "y_valid_train = all_data.loc[dates <  last_block-1, 'target'].values\n",
        "y_valid_test =  all_data.loc[dates == last_block-1, 'target'].values\n",
        "\n",
        "all_data.to_pickle('all_data.pkl') # will use it later. Now free RAM\n",
        "\n",
        "del dates\n",
        "del all_data\n",
        "gc.collect()"
      ]
    },
    {
      "cell_type": "code",
      "execution_count": null,
      "metadata": {
        "id": "LRUgCwL05gHJ"
      },
      "outputs": [],
      "source": [
        "# delete some rows from test\n",
        "columns_to_delete = ['date_block_num', 'target']\n",
        "X_valid_train = X_valid_train.drop(columns_to_delete, axis=1)\n",
        "X_valid_test = X_valid_test.drop(columns_to_delete, axis=1)\n",
        "\n",
        "X_train = X_train.drop(columns_to_delete, axis=1)\n",
        "X_test = X_test.drop(columns_to_delete, axis=1)"
      ]
    },
    {
      "cell_type": "code",
      "execution_count": null,
      "metadata": {
        "id": "C9EH6nxT5gMU"
      },
      "outputs": [],
      "source": [
        "#  we need list of column_names in lgb.Dataset()\n",
        "predictors = X_valid_train.columns.tolist()"
      ]
    },
    {
      "cell_type": "code",
      "execution_count": null,
      "metadata": {
        "id": "UOWa467-ns59"
      },
      "outputs": [],
      "source": [
        "from sklearn.model_selection import StratifiedKFold\n",
        "bayesian_tr_index, bayesian_val_index = list(StratifiedKFold(2, random_state=12, shuffle=True).split(X_valid_train, y_valid_train))[0]"
      ]
    },
    {
      "cell_type": "code",
      "execution_count": null,
      "metadata": {
        "id": "z-nTcfvapQKT"
      },
      "outputs": [],
      "source": [
        "predictors = X_valid_train.columns.tolist()"
      ]
    },
    {
      "cell_type": "code",
      "execution_count": null,
      "metadata": {
        "id": "IYxpY35hns8T"
      },
      "outputs": [],
      "source": [
        "import lightgbm as lgb\n",
        "\n",
        "# in bayesian optimization we need to have a black box. this black box is our algorithm which we want to optimize\n",
        "def lgb_black_box(\n",
        "    num_leaves,  # int\n",
        "    min_data_in_leaf,  # int\n",
        "    learning_rate,\n",
        "    min_sum_hessian_in_leaf,    # int  \n",
        "    feature_fraction,\n",
        "    lambda_l1,\n",
        "    lambda_l2,\n",
        "    min_gain_to_split,\n",
        "    max_depth):\n",
        "    \n",
        "    # lgb need some inputs as int but BayesianOptimization library send continuous values values. so we change type.\n",
        "\n",
        "    num_leaves = int(num_leaves)\n",
        "    min_data_in_leaf = int(min_data_in_leaf)\n",
        "    max_depth = int(max_depth)\n",
        "    \n",
        "    # all this hyperparameter values are just for test. our goal in this kernel is how to use bayesian optimization\n",
        "    # you can see lgb documentation for more info about hyperparameters\n",
        "    params = {\n",
        "        'num_leaves': num_leaves,\n",
        "        'max_bin': 63,\n",
        "        'min_data_in_leaf': min_data_in_leaf,\n",
        "        'learning_rate': learning_rate,\n",
        "        'min_sum_hessian_in_leaf': min_sum_hessian_in_leaf,\n",
        "        'bagging_fraction': 1.0,\n",
        "        'bagging_freq': 5,\n",
        "        'feature_fraction': feature_fraction,\n",
        "        'lambda_l1': lambda_l1,\n",
        "        'lambda_l2': lambda_l2,\n",
        "        'min_gain_to_split': min_gain_to_split,\n",
        "        'max_depth': max_depth,\n",
        "        'save_binary': True, \n",
        "        'seed': 1337,\n",
        "        'feature_fraction_seed': 1337,\n",
        "        'bagging_seed': 1337,\n",
        "        'drop_seed': 1337,\n",
        "        'data_random_seed': 1337,\n",
        "        'objective': 'regression',\n",
        "        'boosting_type': 'gbdt',\n",
        "        'verbose': 1,\n",
        "        'metric': 'rmse',\n",
        "        'is_unbalance': True,\n",
        "        'boost_from_average': False, \n",
        "    }\n",
        "    \n",
        "    train_data = lgb.Dataset(X_valid_train.iloc[bayesian_tr_index].values,\n",
        "                            label = y_valid_train[bayesian_tr_index],\n",
        "                            feature_name=predictors,\n",
        "                            free_raw_data = False)\n",
        "    \n",
        "    \n",
        "    validation_data = lgb.Dataset(X_valid_train.iloc[bayesian_val_index].values,\n",
        "                                 label= y_valid_train[bayesian_val_index],\n",
        "                                 feature_name=predictors,\n",
        "                                 free_raw_data=False)\n",
        "    \n",
        "    num_round = 5000\n",
        "    clf = lgb.train(params, train_data, num_round, valid_sets = [validation_data], verbose_eval=250,\n",
        "                 early_stopping_rounds = 50)\n",
        "    \n",
        "    predictions = clf.predict(X_valid_train.iloc[bayesian_val_index].values,\n",
        "                              num_iteration = clf.best_iteration)\n",
        "    \n",
        "#      we need to compute a regression score. roc_auc_score is a classification score. we can't use it\n",
        "#     score = metrics.roc_auc_score(y_valid_train[bayesian_val_index], predictions)\n",
        "    mse = mean_squared_error(y_valid_train[bayesian_val_index], predictions)\n",
        "    rmse = np.sqrt(mse)\n",
        "#     our bayesian optimization expect us to give him increasing number to understand this is getting better\n",
        "    return -rmse"
      ]
    },
    {
      "cell_type": "code",
      "execution_count": null,
      "metadata": {
        "id": "W2POjQDLp6fA"
      },
      "outputs": [],
      "source": [
        "# these ranges are not best range for this competition, I just use these base ranges\n",
        "LGB_bound = {\n",
        "    \"num_leaves\" : (5, 20),\n",
        "    \"min_data_in_leaf\" : (5, 20),\n",
        "    \"learning_rate\" : (0.01, 0.3),\n",
        "    \"min_sum_hessian_in_leaf\" : (0.00001, 0.01),\n",
        "    \"feature_fraction\" : (0.05, 0.5),\n",
        "    \"lambda_l1\" : (0, 5.0),\n",
        "    \"lambda_l2\" : (0, 5.0),\n",
        "    'min_gain_to_split': (0, 1.0),\n",
        "    'max_depth':(3,15)\n",
        "}"
      ]
    },
    {
      "cell_type": "code",
      "execution_count": null,
      "metadata": {
        "colab": {
          "base_uri": "https://localhost:8080/"
        },
        "id": "8DcylR6gqBlh",
        "outputId": "1150cc3a-1d98-40e2-9c82-28661ee17044"
      },
      "outputs": [
        {
          "output_type": "stream",
          "name": "stdout",
          "text": [
            "Looking in indexes: https://pypi.org/simple, https://us-python.pkg.dev/colab-wheels/public/simple/\n",
            "Requirement already satisfied: bayesian-optimization in /usr/local/lib/python3.7/dist-packages (1.2.0)\n",
            "Requirement already satisfied: scipy>=0.14.0 in /usr/local/lib/python3.7/dist-packages (from bayesian-optimization) (1.7.3)\n",
            "Requirement already satisfied: scikit-learn>=0.18.0 in /usr/local/lib/python3.7/dist-packages (from bayesian-optimization) (1.0.2)\n",
            "Requirement already satisfied: numpy>=1.9.0 in /usr/local/lib/python3.7/dist-packages (from bayesian-optimization) (1.21.6)\n",
            "Requirement already satisfied: threadpoolctl>=2.0.0 in /usr/local/lib/python3.7/dist-packages (from scikit-learn>=0.18.0->bayesian-optimization) (3.1.0)\n",
            "Requirement already satisfied: joblib>=0.11 in /usr/local/lib/python3.7/dist-packages (from scikit-learn>=0.18.0->bayesian-optimization) (1.1.0)\n"
          ]
        }
      ],
      "source": [
        "!pip install bayesian-optimization"
      ]
    },
    {
      "cell_type": "code",
      "execution_count": null,
      "metadata": {
        "colab": {
          "base_uri": "https://localhost:8080/"
        },
        "id": "dAodtv2yns-9",
        "outputId": "39378047-ae66-4a37-956a-ba4b65b52a58"
      },
      "outputs": [
        {
          "output_type": "stream",
          "name": "stdout",
          "text": [
            "['feature_fraction', 'lambda_l1', 'lambda_l2', 'learning_rate', 'max_depth', 'min_data_in_leaf', 'min_gain_to_split', 'min_sum_hessian_in_leaf', 'num_leaves']\n"
          ]
        }
      ],
      "source": [
        "from bayes_opt import BayesianOptimization\n",
        "\n",
        "#  we have 3 parameters for this object. first is function. second is ranges. third is random_state (no matter)\n",
        "optimizer = BayesianOptimization(\n",
        "    f=lgb_black_box,\n",
        "    pbounds = LGB_bound,\n",
        "    random_state = 13\n",
        ")\n",
        "print(optimizer.space.keys)"
      ]
    },
    {
      "cell_type": "code",
      "execution_count": null,
      "metadata": {
        "id": "gRMjxuyHntBX",
        "colab": {
          "base_uri": "https://localhost:8080/"
        },
        "outputId": "2e2ea65c-b2d5-4129-c21b-a3cadac19721"
      },
      "outputs": [
        {
          "output_type": "stream",
          "name": "stdout",
          "text": [
            "|   iter    |  target   | featur... | lambda_l1 | lambda_l2 | learni... | max_depth | min_da... | min_ga... | min_su... | num_le... |\n",
            "-------------------------------------------------------------------------------------------------------------------------------------\n",
            "Training until validation scores don't improve for 50 rounds.\n",
            "[250]\tvalid_0's rmse: 0.805523\n",
            "[500]\tvalid_0's rmse: 0.791174\n",
            "[750]\tvalid_0's rmse: 0.783847\n",
            "[1000]\tvalid_0's rmse: 0.776274\n",
            "[1250]\tvalid_0's rmse: 0.773431\n",
            "Early stopping, best iteration is:\n",
            "[1445]\tvalid_0's rmse: 0.771682\n",
            "| \u001b[0m 1       \u001b[0m | \u001b[0m-0.7717  \u001b[0m | \u001b[0m 0.4     \u001b[0m | \u001b[0m 1.188   \u001b[0m | \u001b[0m 4.121   \u001b[0m | \u001b[0m 0.2901  \u001b[0m | \u001b[0m 14.67   \u001b[0m | \u001b[0m 11.8    \u001b[0m | \u001b[0m 0.609   \u001b[0m | \u001b[0m 0.007758\u001b[0m | \u001b[0m 14.62   \u001b[0m |\n",
            "Training until validation scores don't improve for 50 rounds.\n",
            "[250]\tvalid_0's rmse: 0.879588\n",
            "[500]\tvalid_0's rmse: 0.856661\n",
            "[750]\tvalid_0's rmse: 0.845217\n",
            "[1000]\tvalid_0's rmse: 0.836407\n",
            "[1250]\tvalid_0's rmse: 0.829865\n",
            "[1500]\tvalid_0's rmse: 0.825084\n",
            "[1750]\tvalid_0's rmse: 0.821022\n",
            "[2000]\tvalid_0's rmse: 0.817716\n",
            "[2250]\tvalid_0's rmse: 0.815123\n",
            "[2500]\tvalid_0's rmse: 0.812561\n",
            "[2750]\tvalid_0's rmse: 0.810249\n",
            "[3000]\tvalid_0's rmse: 0.808402\n",
            "[3250]\tvalid_0's rmse: 0.806617\n",
            "[3500]\tvalid_0's rmse: 0.804769\n",
            "[3750]\tvalid_0's rmse: 0.803267\n",
            "[4000]\tvalid_0's rmse: 0.801985\n",
            "[4250]\tvalid_0's rmse: 0.800666\n",
            "[4500]\tvalid_0's rmse: 0.799385\n",
            "[4750]\tvalid_0's rmse: 0.798099\n",
            "[5000]\tvalid_0's rmse: 0.796852\n",
            "Did not meet early stopping. Best iteration is:\n",
            "[5000]\tvalid_0's rmse: 0.796852\n",
            "| \u001b[0m 2       \u001b[0m | \u001b[0m-0.7969  \u001b[0m | \u001b[0m 0.3749  \u001b[0m | \u001b[0m 0.1752  \u001b[0m | \u001b[0m 1.492   \u001b[0m | \u001b[0m 0.02697 \u001b[0m | \u001b[0m 13.28   \u001b[0m | \u001b[0m 10.59   \u001b[0m | \u001b[0m 0.6798  \u001b[0m | \u001b[0m 0.00257 \u001b[0m | \u001b[0m 10.21   \u001b[0m |\n",
            "Training until validation scores don't improve for 50 rounds.\n",
            "[250]\tvalid_0's rmse: 0.910813\n",
            "[500]\tvalid_0's rmse: 0.884924\n",
            "[750]\tvalid_0's rmse: 0.869267\n",
            "[1000]\tvalid_0's rmse: 0.859708\n",
            "[1250]\tvalid_0's rmse: 0.852835\n",
            "[1500]\tvalid_0's rmse: 0.848633\n",
            "[1750]\tvalid_0's rmse: 0.844785\n",
            "[2000]\tvalid_0's rmse: 0.841658\n",
            "[2250]\tvalid_0's rmse: 0.83914\n",
            "[2500]\tvalid_0's rmse: 0.837359\n",
            "[2750]\tvalid_0's rmse: 0.835745\n",
            "[3000]\tvalid_0's rmse: 0.833582\n",
            "[3250]\tvalid_0's rmse: 0.832031\n",
            "[3500]\tvalid_0's rmse: 0.830444\n",
            "[3750]\tvalid_0's rmse: 0.829213\n",
            "[4000]\tvalid_0's rmse: 0.828124\n",
            "[4250]\tvalid_0's rmse: 0.826971\n",
            "[4500]\tvalid_0's rmse: 0.825719\n",
            "[4750]\tvalid_0's rmse: 0.824651\n",
            "[5000]\tvalid_0's rmse: 0.823617\n",
            "Did not meet early stopping. Best iteration is:\n",
            "[5000]\tvalid_0's rmse: 0.823617\n",
            "| \u001b[0m 3       \u001b[0m | \u001b[0m-0.8236  \u001b[0m | \u001b[0m 0.05424 \u001b[0m | \u001b[0m 1.792   \u001b[0m | \u001b[0m 4.745   \u001b[0m | \u001b[0m 0.07319 \u001b[0m | \u001b[0m 6.833   \u001b[0m | \u001b[0m 18.77   \u001b[0m | \u001b[0m 0.0319  \u001b[0m | \u001b[0m 0.000660\u001b[0m | \u001b[0m 14.45   \u001b[0m |\n",
            "Training until validation scores don't improve for 50 rounds.\n",
            "[250]\tvalid_0's rmse: 0.810049\n",
            "[500]\tvalid_0's rmse: 0.793099\n",
            "[750]\tvalid_0's rmse: 0.780529\n",
            "[1000]\tvalid_0's rmse: 0.775813\n",
            "[1250]\tvalid_0's rmse: 0.773097\n",
            "[1500]\tvalid_0's rmse: 0.768526\n",
            "Early stopping, best iteration is:\n",
            "[1560]\tvalid_0's rmse: 0.768377\n",
            "| \u001b[95m 4       \u001b[0m | \u001b[95m-0.7684  \u001b[0m | \u001b[95m 0.3004  \u001b[0m | \u001b[95m 1.424   \u001b[0m | \u001b[95m 4.22    \u001b[0m | \u001b[95m 0.2782  \u001b[0m | \u001b[95m 14.7    \u001b[0m | \u001b[95m 11.19   \u001b[0m | \u001b[95m 0.5692  \u001b[0m | \u001b[95m 0.007172\u001b[0m | \u001b[95m 15.6    \u001b[0m |\n",
            "Training until validation scores don't improve for 50 rounds.\n",
            "[250]\tvalid_0's rmse: 0.792596\n",
            "[500]\tvalid_0's rmse: 0.776965\n",
            "[750]\tvalid_0's rmse: 0.770541\n",
            "Early stopping, best iteration is:\n",
            "[807]\tvalid_0's rmse: 0.769739\n",
            "| \u001b[0m 5       \u001b[0m | \u001b[0m-0.7697  \u001b[0m | \u001b[0m 0.5     \u001b[0m | \u001b[0m 5.0     \u001b[0m | \u001b[0m 5.0     \u001b[0m | \u001b[0m 0.3     \u001b[0m | \u001b[0m 15.0    \u001b[0m | \u001b[0m 5.0     \u001b[0m | \u001b[0m 1.0     \u001b[0m | \u001b[0m 0.01    \u001b[0m | \u001b[0m 20.0    \u001b[0m |\n",
            "Training until validation scores don't improve for 50 rounds.\n",
            "[250]\tvalid_0's rmse: 0.796865\n",
            "[500]\tvalid_0's rmse: 0.781194\n",
            "[750]\tvalid_0's rmse: 0.772618\n",
            "[1000]\tvalid_0's rmse: 0.767342\n",
            "[1250]\tvalid_0's rmse: 0.7604\n",
            "[1500]\tvalid_0's rmse: 0.757047\n",
            "[1750]\tvalid_0's rmse: 0.754797\n",
            "Early stopping, best iteration is:\n",
            "[1860]\tvalid_0's rmse: 0.753924\n",
            "| \u001b[95m 6       \u001b[0m | \u001b[95m-0.7539  \u001b[0m | \u001b[95m 0.5     \u001b[0m | \u001b[95m 0.0     \u001b[0m | \u001b[95m 0.0     \u001b[0m | \u001b[95m 0.3     \u001b[0m | \u001b[95m 15.0    \u001b[0m | \u001b[95m 5.0     \u001b[0m | \u001b[95m 0.0     \u001b[0m | \u001b[95m 0.01    \u001b[0m | \u001b[95m 20.0    \u001b[0m |\n",
            "=====================================================================================================================================\n"
          ]
        }
      ],
      "source": [
        "init_points = 3\n",
        "n_iter = 3\n",
        "\n",
        "optimizer.maximize(init_points = init_points, n_iter = n_iter)"
      ]
    },
    {
      "cell_type": "code",
      "source": [
        "optimizer.max['params']"
      ],
      "metadata": {
        "colab": {
          "base_uri": "https://localhost:8080/"
        },
        "id": "rmQ6-9EyRrO6",
        "outputId": "05295482-4786-4e90-af31-ef0746f69418"
      },
      "execution_count": null,
      "outputs": [
        {
          "output_type": "execute_result",
          "data": {
            "text/plain": [
              "{'feature_fraction': 0.5,\n",
              " 'lambda_l1': 0.0,\n",
              " 'lambda_l2': 0.0,\n",
              " 'learning_rate': 0.3,\n",
              " 'max_depth': 15.0,\n",
              " 'min_data_in_leaf': 5.0,\n",
              " 'min_gain_to_split': 0.0,\n",
              " 'min_sum_hessian_in_leaf': 0.01,\n",
              " 'num_leaves': 20.0}"
            ]
          },
          "metadata": {},
          "execution_count": 67
        }
      ]
    },
    {
      "cell_type": "code",
      "execution_count": null,
      "metadata": {
        "id": "YPFVT8zEntDo",
        "colab": {
          "base_uri": "https://localhost:8080/"
        },
        "outputId": "3de85b89-673d-4048-ce94-5a94b6e8ba1a"
      },
      "outputs": [
        {
          "output_type": "stream",
          "name": "stdout",
          "text": [
            "| \u001b[0m 8       \u001b[0m | \u001b[0m-0.7539  \u001b[0m | \u001b[0m 0.5     \u001b[0m | \u001b[0m 0.0     \u001b[0m | \u001b[0m 0.0     \u001b[0m | \u001b[0m 0.3     \u001b[0m | \u001b[0m 15.0    \u001b[0m | \u001b[0m 5.0     \u001b[0m | \u001b[0m 0.0     \u001b[0m | \u001b[0m 0.01    \u001b[0m | \u001b[0m 20.0    \u001b[0m |\n"
          ]
        }
      ],
      "source": [
        "#use computed params here\n",
        "\n",
        "optimizer.probe(\n",
        "    params = optimizer.max['params'],\n",
        "    lazy = False\n",
        ")\n",
        "# if lazy= True  it will run next time I say .maximize\n",
        "# if lazy = False it will run the optimizing right now."
      ]
    },
    {
      "cell_type": "code",
      "execution_count": null,
      "metadata": {
        "id": "KXddUoI25zU1"
      },
      "outputs": [],
      "source": [
        "optimized_lgb_params = {\n",
        "        'num_leaves': int(optimizer.max[\"params\"][\"num_leaves\"]),\n",
        "        'max_bin': 63,\n",
        "        'min_data_in_leaf': int(optimizer.max[\"params\"][\"min_data_in_leaf\"]),\n",
        "        'learning_rate': optimizer.max[\"params\"][\"learning_rate\"],\n",
        "        'min_sum_hessian_in_leaf': optimizer.max[\"params\"][\"min_sum_hessian_in_leaf\"],\n",
        "        'bagging_fraction': 1.0,\n",
        "        'bagging_freq': 5,\n",
        "        'feature_fraction': optimizer.max[\"params\"][\"feature_fraction\"],\n",
        "        'lambda_l1': optimizer.max[\"params\"][\"lambda_l1\"],\n",
        "        'lambda_l2': optimizer.max[\"params\"][\"lambda_l2\"],\n",
        "        'min_gain_to_split': optimizer.max[\"params\"][\"min_gain_to_split\"],\n",
        "        'max_depth': int(optimizer.max[\"params\"][\"max_depth\"]),\n",
        "        'save_binary': True, \n",
        "        'seed': 1337,\n",
        "        'feature_fraction_seed': 1337,\n",
        "        'bagging_seed': 1337,\n",
        "        'drop_seed': 1337,\n",
        "        'data_random_seed': 1337,\n",
        "        'objective': 'regression',\n",
        "        'boosting_type': 'gbdt',\n",
        "        'verbose': 1,\n",
        "        'metric': 'rmse',\n",
        "        'is_unbalance': True,\n",
        "        'boost_from_average': False, \n",
        "    }"
      ]
    },
    {
      "cell_type": "code",
      "execution_count": null,
      "metadata": {
        "id": "YUcSLT9w5zaH"
      },
      "outputs": [],
      "source": [
        "nfold = 5\n",
        "skf2 = StratifiedKFold(n_splits = nfold, shuffle = True, random_state=68)"
      ]
    },
    {
      "cell_type": "code",
      "execution_count": null,
      "metadata": {
        "id": "hiJbxzuu54b5",
        "colab": {
          "base_uri": "https://localhost:8080/"
        },
        "outputId": "e98321bc-8e3b-40f8-990f-0dc9e901fa3a"
      },
      "outputs": [
        {
          "output_type": "stream",
          "name": "stdout",
          "text": [
            "Training until validation scores don't improve for 50 rounds.\n",
            "[250]\tvalid_0's rmse: 0.785962\n",
            "[500]\tvalid_0's rmse: 0.768346\n",
            "[750]\tvalid_0's rmse: 0.757516\n",
            "[1000]\tvalid_0's rmse: 0.752317\n",
            "[1250]\tvalid_0's rmse: 0.746774\n",
            "[1500]\tvalid_0's rmse: 0.744029\n",
            "[1750]\tvalid_0's rmse: 0.739561\n",
            "[2000]\tvalid_0's rmse: 0.738529\n",
            "Early stopping, best iteration is:\n",
            "[2118]\tvalid_0's rmse: 0.738236\n",
            "Training until validation scores don't improve for 50 rounds.\n",
            "[250]\tvalid_0's rmse: 0.792313\n",
            "[500]\tvalid_0's rmse: 0.774978\n",
            "[750]\tvalid_0's rmse: 0.765654\n",
            "[1000]\tvalid_0's rmse: 0.756511\n",
            "[1250]\tvalid_0's rmse: 0.753053\n",
            "[1500]\tvalid_0's rmse: 0.75031\n",
            "[1750]\tvalid_0's rmse: 0.745262\n",
            "[2000]\tvalid_0's rmse: 0.741419\n",
            "[2250]\tvalid_0's rmse: 0.738416\n",
            "[2500]\tvalid_0's rmse: 0.737062\n",
            "[2750]\tvalid_0's rmse: 0.734656\n",
            "Early stopping, best iteration is:\n",
            "[2854]\tvalid_0's rmse: 0.733406\n",
            "Training until validation scores don't improve for 50 rounds.\n",
            "[250]\tvalid_0's rmse: 0.793467\n",
            "[500]\tvalid_0's rmse: 0.777715\n",
            "[750]\tvalid_0's rmse: 0.764249\n",
            "[1000]\tvalid_0's rmse: 0.757218\n",
            "[1250]\tvalid_0's rmse: 0.753232\n",
            "[1500]\tvalid_0's rmse: 0.749654\n",
            "[1750]\tvalid_0's rmse: 0.746023\n",
            "[2000]\tvalid_0's rmse: 0.744384\n",
            "[2250]\tvalid_0's rmse: 0.74297\n",
            "[2500]\tvalid_0's rmse: 0.740883\n",
            "[2750]\tvalid_0's rmse: 0.739868\n",
            "Early stopping, best iteration is:\n",
            "[2805]\tvalid_0's rmse: 0.73921\n",
            "Training until validation scores don't improve for 50 rounds.\n",
            "[250]\tvalid_0's rmse: 0.797923\n",
            "[500]\tvalid_0's rmse: 0.780119\n",
            "[750]\tvalid_0's rmse: 0.768489\n",
            "[1000]\tvalid_0's rmse: 0.759616\n",
            "[1250]\tvalid_0's rmse: 0.753074\n",
            "[1500]\tvalid_0's rmse: 0.750411\n",
            "[1750]\tvalid_0's rmse: 0.748881\n",
            "Early stopping, best iteration is:\n",
            "[1735]\tvalid_0's rmse: 0.748811\n",
            "Training until validation scores don't improve for 50 rounds.\n",
            "[250]\tvalid_0's rmse: 0.796501\n",
            "[500]\tvalid_0's rmse: 0.782865\n",
            "[750]\tvalid_0's rmse: 0.770837\n",
            "[1000]\tvalid_0's rmse: 0.763361\n",
            "[1250]\tvalid_0's rmse: 0.757331\n",
            "[1500]\tvalid_0's rmse: 0.751173\n",
            "[1750]\tvalid_0's rmse: 0.747707\n",
            "[2000]\tvalid_0's rmse: 0.745665\n",
            "[2250]\tvalid_0's rmse: 0.744558\n",
            "[2500]\tvalid_0's rmse: 0.743974\n",
            "[2750]\tvalid_0's rmse: 0.742908\n",
            "Early stopping, best iteration is:\n",
            "[2725]\tvalid_0's rmse: 0.74283\n"
          ]
        }
      ],
      "source": [
        "predictions1 = np.zeros((len(y_test), nfold))\n",
        "i = 1\n",
        "for train_index, val_index in skf2.split(X_train, y_train):\n",
        "    train_set_lgb = lgb.Dataset(X_train.iloc[train_index][predictors].values,\n",
        "                                label= y_train[train_index],\n",
        "                                feature_name= predictors,\n",
        "                                free_raw_data=False)\n",
        "    \n",
        "    val_set_lgb = lgb.Dataset(X_train.iloc[val_index][predictors].values,\n",
        "                                label= y_train[val_index],\n",
        "                                feature_name= predictors,\n",
        "                                free_raw_data=False)\n",
        "    clf = lgb.train(optimized_lgb_params, train_set_lgb, 5000, valid_sets = [val_set_lgb],\n",
        "                   verbose_eval=250, early_stopping_rounds = 50)\n",
        "    \n",
        "    predictions1[:,i-1] += clf.predict(X_test[predictors], num_iteration=clf.best_iteration)\n",
        "    i = i + 1"
      ]
    },
    {
      "cell_type": "code",
      "execution_count": null,
      "metadata": {
        "id": "4oYI4B5854es"
      },
      "outputs": [],
      "source": [
        "su=[sum(i) for i in predictions1]\n",
        "newList = [ x / 5 for x in su]\n",
        "newList"
      ]
    },
    {
      "cell_type": "code",
      "execution_count": null,
      "metadata": {
        "id": "4Nl-7VkG54hd"
      },
      "outputs": [],
      "source": [
        "clippedList = [20 if x > 20 else x  for x in newList ]\n"
      ]
    },
    {
      "cell_type": "code",
      "execution_count": null,
      "metadata": {
        "id": "xR-Aqa766Qn_"
      },
      "outputs": [],
      "source": [
        "submit3 = pd.DataFrame({'ID':range(214200), 'item_cnt_month': clippedList})\n",
        "submit3.to_csv('submission.csv', index=False)"
      ]
    },
    {
      "cell_type": "code",
      "execution_count": null,
      "metadata": {
        "id": "zjox1ocu6mIP",
        "colab": {
          "base_uri": "https://localhost:8080/"
        },
        "outputId": "5e68a7ee-4595-47e9-81ea-7374c7567954"
      },
      "outputs": [
        {
          "output_type": "stream",
          "name": "stdout",
          "text": [
            "100% 5.41M/5.41M [00:04<00:00, 1.30MB/s]\n",
            "Successfully submitted to Predict Future Sales"
          ]
        }
      ],
      "source": [
        "!kaggle competitions submit -c competitive-data-science-predict-future-sales -f submission.csv -m \"CNN + LSTM with feature engineering\""
      ]
    },
    {
      "cell_type": "markdown",
      "source": [
        "###Skfold 2"
      ],
      "metadata": {
        "id": "i4YrrWcK67Hl"
      }
    },
    {
      "cell_type": "code",
      "execution_count": null,
      "metadata": {
        "id": "LJ6WRESz6Qq3"
      },
      "outputs": [],
      "source": [
        "train_index2, val_index2 = list(StratifiedKFold(2, random_state=12, shuffle=True).split(X_train, y_train))[0]"
      ]
    },
    {
      "cell_type": "code",
      "execution_count": null,
      "metadata": {
        "id": "Cbv1mJhv6QtO",
        "colab": {
          "base_uri": "https://localhost:8080/"
        },
        "outputId": "6ee6f681-7118-4284-d533-2b3a8ac38447"
      },
      "outputs": [
        {
          "output_type": "stream",
          "name": "stdout",
          "text": [
            "Training until validation scores don't improve for 50 rounds.\n",
            "[250]\tvalid_0's rmse: 0.792576\n",
            "[500]\tvalid_0's rmse: 0.780005\n",
            "[750]\tvalid_0's rmse: 0.771635\n",
            "[1000]\tvalid_0's rmse: 0.764724\n",
            "[1250]\tvalid_0's rmse: 0.761029\n",
            "[1500]\tvalid_0's rmse: 0.759112\n",
            "[1750]\tvalid_0's rmse: 0.75665\n",
            "[2000]\tvalid_0's rmse: 0.754589\n",
            "[2250]\tvalid_0's rmse: 0.750836\n",
            "[2500]\tvalid_0's rmse: 0.748853\n",
            "[2750]\tvalid_0's rmse: 0.747515\n",
            "Early stopping, best iteration is:\n",
            "[2904]\tvalid_0's rmse: 0.746407\n"
          ]
        }
      ],
      "source": [
        "# prediction with 1 time of prediction.\n",
        "predictions = np.zeros((len(y_test), nfold))\n",
        "\n",
        "\n",
        "train_set_lgb = lgb.Dataset(X_train.iloc[train_index2][predictors].values,\n",
        "                            label= y_train[train_index2],\n",
        "                            feature_name= predictors,\n",
        "                            free_raw_data=False)\n",
        "    \n",
        "val_set_lgb = lgb.Dataset(X_train.iloc[val_index2][predictors].values,\n",
        "                            label= y_train[val_index2],\n",
        "                            feature_name= predictors,\n",
        "                            free_raw_data=False)\n",
        "clf = lgb.train(optimized_lgb_params, train_set_lgb, 5000, valid_sets = [val_set_lgb],\n",
        "                verbose_eval=250, early_stopping_rounds = 50)\n",
        "    \n",
        "predictions = clf.predict(X_test[predictors], num_iteration=clf.best_iteration)"
      ]
    },
    {
      "cell_type": "code",
      "execution_count": null,
      "metadata": {
        "id": "skGi1xRR6Qvy"
      },
      "outputs": [],
      "source": [
        "final = predictions.clip(0,20)"
      ]
    },
    {
      "cell_type": "code",
      "execution_count": null,
      "metadata": {
        "id": "SmBThipm6t7z"
      },
      "outputs": [],
      "source": [
        "submit = pd.DataFrame({'ID':range(len(predictions)), 'item_cnt_month': final})\n",
        "submit.to_csv('submission.csv', index=False)"
      ]
    },
    {
      "cell_type": "code",
      "execution_count": null,
      "metadata": {
        "id": "JzsHqaEJ6QyG",
        "colab": {
          "base_uri": "https://localhost:8080/"
        },
        "outputId": "c88a538a-bbbc-47e8-b8ea-e3834e635ed6"
      },
      "outputs": [
        {
          "output_type": "stream",
          "name": "stdout",
          "text": [
            "100% 4.99M/4.99M [00:03<00:00, 1.39MB/s]\n",
            "Successfully submitted to Predict Future Sales"
          ]
        }
      ],
      "source": [
        "!kaggle competitions submit -c competitive-data-science-predict-future-sales -f submission.csv -m \"CNN + LSTM with feature engineering\""
      ]
    }
  ]
}